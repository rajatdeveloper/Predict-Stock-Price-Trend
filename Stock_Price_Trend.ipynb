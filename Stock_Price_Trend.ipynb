{
  "nbformat": 4,
  "nbformat_minor": 0,
  "metadata": {
    "colab": {
      "name": "Stock Price Trend.ipynb",
      "version": "0.3.2",
      "provenance": [],
      "collapsed_sections": [],
      "include_colab_link": true
    },
    "kernelspec": {
      "name": "python3",
      "display_name": "Python 3"
    },
    "accelerator": "GPU"
  },
  "cells": [
    {
      "cell_type": "markdown",
      "metadata": {
        "id": "view-in-github",
        "colab_type": "text"
      },
      "source": [
        "<a href=\"https://colab.research.google.com/github/rajatdeveloper/Predict-Stock-Price-Trend/blob/master/Stock_Price_Trend.ipynb\" target=\"_parent\"><img src=\"https://colab.research.google.com/assets/colab-badge.svg\" alt=\"Open In Colab\"/></a>"
      ]
    },
    {
      "metadata": {
        "id": "-wr0AMxRcW66",
        "colab_type": "code",
        "colab": {}
      },
      "cell_type": "code",
      "source": [
        "import matplotlib.pyplot as plt\n",
        "import numpy as np\n",
        "import sklearn\n",
        "from sklearn import tree\n",
        "from sklearn.naive_bayes import GaussianNB\n",
        "from sklearn.model_selection import KFold\n",
        "from sklearn.model_selection import train_test_split\n",
        "import pandas as pd\n",
        "from sklearn import preprocessing\n",
        "from sklearn.metrics import confusion_matrix"
      ],
      "execution_count": 0,
      "outputs": []
    },
    {
      "metadata": {
        "id": "E90BcZkIcW7C",
        "colab_type": "text"
      },
      "cell_type": "markdown",
      "source": [
        "# Data Load\n",
        "\n"
      ]
    },
    {
      "metadata": {
        "id": "zVbvyxdEcW7G",
        "colab_type": "code",
        "colab": {}
      },
      "cell_type": "code",
      "source": [
        "'''\n",
        "This function loads the data\n",
        "'''\n",
        "def loadData(filename):\n",
        "    from google.colab import drive\n",
        "    drive.mount('/content/gdrive')\n",
        "    rawData = pd.read_csv('/content/gdrive/My Drive/AssessmentTest_ML/'+filename)\n",
        "    #rawData = pd.read_csv(filename)\n",
        "    closePrice = np.array(rawData.loc[:, [' CLOSE']])\n",
        "    return   closePrice[:,0]\n",
        "\n",
        "'''\n",
        "This function extracts X and Y data where X is the price for past n days\n",
        "n = lookback for this func., Y is price for the next m days.\n",
        "m = f_horizon for this func\n",
        "NOTE: WE ARE NOT USING FUNCTION FOR THIS EXERCISE. THIS IS JUST FOR YOUR LEARNING\n",
        "'''\n",
        "def create_dataset(closePrice,look_back,f_horizon):    \n",
        "    dataX = []\n",
        "    dataY = []        \n",
        "    for i in range(0,len(closePrice)-look_back-f_horizon,1):\n",
        "        a = closePrice[i:i+look_back]\n",
        "        b = closePrice[i+look_back:i+look_back + f_horizon]               \n",
        "        dataX.append(a.tolist())\n",
        "        dataY.append(b.tolist())\n",
        "    return dataX, dataY\n",
        "\n",
        "'''\n",
        "This function extracts X and Y data where X is the price for past n days\n",
        "n = lookback for this func., Y is the labels that can have 3 values -1, 0, 1\n",
        "-1 denotes a drop in stock price, 0 denotes no change, and 1 denotes an increase in stock price. \n",
        "'''\n",
        "def create_dataset_discrete(closePrice,look_back):    \n",
        "    dataX = []\n",
        "    dataY = []\n",
        "    dataY_raw = []\n",
        "    for i in range(0,len(closePrice)-look_back-1,1):\n",
        "        a = closePrice[i:i+look_back]\n",
        "        b = (closePrice[i+look_back] - closePrice[i+look_back-1])/ (closePrice[i+look_back-1]) * 100\n",
        "        # b is the percentage change in price for the next day\n",
        "        \n",
        "        labels = 0\n",
        "        if b > 0.25:\n",
        "            labels = 1\n",
        "        elif b < -0.25:\n",
        "            labels = -1\n",
        "        dataX.append(a.tolist())\n",
        "        dataY.append(labels)\n",
        "        dataY_raw.append(b)\n",
        "    return dataX, dataY, dataY_raw\n"
      ],
      "execution_count": 0,
      "outputs": []
    },
    {
      "metadata": {
        "id": "5JeiQLqDcW7J",
        "colab_type": "text"
      },
      "cell_type": "markdown",
      "source": [
        "# Preprocessing\n"
      ]
    },
    {
      "metadata": {
        "id": "sdZfE9qjcW7L",
        "colab_type": "code",
        "colab": {}
      },
      "cell_type": "code",
      "source": [
        "# Create Normalized Dataset\n",
        "def create_normalized_dataset(dataX):\n",
        "    # you may want to add your code to normalize the dataset \n",
        "    dataX = preprocessing.normalize(dataX)\n",
        "    return dataX\n",
        "\n",
        "# Create Normalized Dataset\n",
        "def preprocessData(dataX, dataY):\n",
        "    dataX = np.array(dataX)\n",
        "    dataY = np.array(dataY)\n",
        "    return dataX,dataY\n",
        "  \n",
        "# Create Normalized Dataset\n",
        "def extractFeatures(dataX):\n",
        "    # you may generate some features such as moving averages, Relative strength index etc    \n",
        "    period = 21\n",
        "    T = len(dataX[0])\n",
        "    for i in range(0, len(dataX)):\n",
        "    #calculate moving averages\n",
        "        sum_ = 0\n",
        "        for j in range(T-period-1,T):\n",
        "          sum_ = sum_ + dataX[i][j]\n",
        "        dataX[i].append(round(sum_/period, 2))\n",
        "  \n",
        "    #calculate RSI\n",
        "        gains = 0.0\n",
        "        losses = 0.0        \n",
        "        for j in range(T-period,T):\n",
        "            diff = dataX[i][j] - dataX[i][j-1]\n",
        "\n",
        "            if diff > 0:\n",
        "                gains += diff\n",
        "            elif diff < 0: \n",
        "                losses += abs(diff)\n",
        "        dataX[i].append(round(100 - (100 / (1 + gains / losses)), 2))\n",
        "    return dataX\n",
        "\n",
        "\n",
        "# This func. create train and test data. Given the entire dataset\n",
        "# Note that the code doesn't shuffle the data\n",
        "def createData_TrainTest(dataX, dataY, percent_train_data):\n",
        "    num_training_data = int (len(dataY)*percent_train_data)\n",
        "    idx = np.arange(0 , len(dataY))\n",
        "    #np.random.shuffle(idx)  # Shuffling can provide future info.\n",
        "    # Extract Test and Train data\n",
        "    trainX = [dataX[i] for i in idx[0:num_training_data]]\n",
        "    testX  = [dataX[i] for i in idx[num_training_data:]]\n",
        "    trainY = [dataY[i] for i in idx[0:num_training_data]]\n",
        "    testY =  [dataY[i] for i in idx[num_training_data:]]  \n",
        "    \n",
        "    return trainX, trainY, testX, testY\n"
      ],
      "execution_count": 0,
      "outputs": []
    },
    {
      "metadata": {
        "id": "HbcmtlT6cW7P",
        "colab_type": "text"
      },
      "cell_type": "markdown",
      "source": [
        "# Classifiers"
      ]
    },
    {
      "metadata": {
        "id": "rq5ZYvbEcW7Q",
        "colab_type": "code",
        "colab": {}
      },
      "cell_type": "code",
      "source": [
        "'''\n",
        "This function is just an example for naive bayes implementation.\n",
        "It takes the training features and labels as input and learns a\n",
        "decision tree model using SKLearn's naive bayes algorithm. It runs 10-fold\n",
        "cross-validation on the training data to identify the best depth.\n",
        "\n",
        "PLEASE DONT USE THIS FUNCTION. THIS FUNCTION IS BY NO MEAN A GUIDELINE FOR YOUR CODE.\n",
        "THIS FUNCTION IS ONLY INCLUDED FOR YOUR LEARNING\n",
        "'''\n",
        "def learn_naive_bayes(X, y):\n",
        "    # This list tracks the learned decision tree with the best accuracy\n",
        "    best_model = [ None, float(\"-inf\") ]\n",
        "    # Create the object that will split the training set into training and\n",
        "    # validation sets\n",
        "    kf = KFold(n_splits=10)\n",
        "    # Iterate over each of the 10 splits on the data set\n",
        "    for train, test in kf.split(X):\n",
        "        # Pull out the features and labels that will be used to train this model\n",
        "        train_X = [ X[dp] for dp in train ]\n",
        "        train_y = [ y[dp] for dp in train ]\n",
        "        # Pull out the features and labels that will be used to validate this\n",
        "        # model\n",
        "        valid_X = [ X[dp] for dp in test ]\n",
        "        valid_y = [ y[dp] for dp in test ]\n",
        "        # Create the decision tree object\n",
        "        clf = GaussianNB()\n",
        "        # Learn the model on the training data that will be used for this\n",
        "        # fold\n",
        "        clf = clf.fit(train_X, train_y)\n",
        "        \n",
        "        # Evaluate the learned model on the validation set\n",
        "        accuracy = clf.score(valid_X, valid_y)\n",
        "        # Check whether or not this learned model is the most accuracy model\n",
        "        if accuracy > best_model[1]:\n",
        "            # Update best_model so that it holds this learned model and its\n",
        "            # associated accuracy and hyper-parameter information\n",
        "            best_model = [ clf, accuracy ]\n",
        "    return best_model\n",
        "\n",
        "\n",
        "def MLClassifier(X,y):\n",
        "    # code as many classifier as you want. You can have as many functions for classifier as you need\n",
        "    # you can also write Neural network function if you are interested\n",
        "    # This list tracks the learned decision tree with the best accuracy\n",
        "    best_model = [ None, float(\"-inf\") ]\n",
        "    # Create the object that will split the training set into training and\n",
        "    # validation sets\n",
        "    kf = KFold(n_splits=5)\n",
        "    # Iterate over each of the 10 splits on the data set\n",
        "    for train, test in kf.split(X):\n",
        "        # Pull out the features and labels that will be used to train this model\n",
        "        train_X = [ X[dp] for dp in train ]\n",
        "        train_y = [ y[dp] for dp in train ]\n",
        "        # Pull out the features and labels that will be used to validate this\n",
        "        # model\n",
        "        valid_X = [ X[dp] for dp in test ]\n",
        "        valid_y = [ y[dp] for dp in test ]\n",
        "        # Create the decision tree object\n",
        "        clf = GaussianNB()\n",
        "        # Learn the model on the training data that will be used for this\n",
        "        # fold\n",
        "        clf = clf.fit(train_X, train_y)\n",
        "        \n",
        "        # Evaluate the learned model on the validation set\n",
        "        accuracy = clf.score(valid_X, valid_y)\n",
        "        # Check whether or not this learned model is the most accuracy model\n",
        "        if accuracy > best_model[1]:\n",
        "            # Update best_model so that it holds this learned model and its\n",
        "            # associated accuracy and hyper-parameter information\n",
        "            best_model = [ clf, accuracy ]\n",
        "    return best_model\n"
      ],
      "execution_count": 0,
      "outputs": []
    },
    {
      "metadata": {
        "id": "PL6g4LxucW7U",
        "colab_type": "text"
      },
      "cell_type": "markdown",
      "source": [
        "# Visualization Tools"
      ]
    },
    {
      "metadata": {
        "id": "PPN24yc1cW7Y",
        "colab_type": "code",
        "colab": {}
      },
      "cell_type": "code",
      "source": [
        "def visualize(closePrice):\n",
        "    # write your visualization tools here: you can code as many functions as you would like\n",
        "    plt.figure(figsize = (12,6))\n",
        "    plt.plot(closePrice)\n",
        "    plt.xlabel('Time')\n",
        "    plt.ylabel('Close Price')\n",
        "    plt.title('Stock vs Time')\n",
        "\n",
        "def hist_visualize(dataY, x_label_name,y_label_name, figure_title):\n",
        "    n, bins, patches = plt.hist(x=dataY, bins='auto', color='#0504aa', alpha=0.7, rwidth=0.85)\n",
        "    plt.grid(axis='y', alpha=0.75)\n",
        "    plt.xlabel(x_label_name)\n",
        "    plt.ylabel(y_label_name)\n",
        "    plt.title(figure_title)\n",
        "    plt.text(23, 45, r'$\\mu=15, b=3$')\n",
        "    plt.ylim()\n",
        "    return plt.show()"
      ],
      "execution_count": 0,
      "outputs": []
    },
    {
      "metadata": {
        "id": "4Bo5bGsucW7e",
        "colab_type": "text"
      },
      "cell_type": "markdown",
      "source": [
        "# helper function:"
      ]
    },
    {
      "metadata": {
        "id": "HXMn3kdwcW7f",
        "colab_type": "code",
        "colab": {}
      },
      "cell_type": "code",
      "source": [
        "def helperFunc(closeprice):\n",
        "    # code other helper functions here that doesn't fall into any of the above categories\n",
        "    pass\n",
        "\n",
        "    "
      ],
      "execution_count": 0,
      "outputs": []
    },
    {
      "metadata": {
        "id": "xGs0ylBocW7k",
        "colab_type": "text"
      },
      "cell_type": "markdown",
      "source": [
        "# Main Code Here:"
      ]
    },
    {
      "metadata": {
        "id": "Cgne-bzqcW7m",
        "colab_type": "code",
        "outputId": "a6ed1e26-a4a8-42d7-a6da-7f573428cf87",
        "colab": {
          "base_uri": "https://localhost:8080/",
          "height": 420
        }
      },
      "cell_type": "code",
      "source": [
        "# Input Variable\n",
        "filename = 'stock_data.txt' # file containing stock data \n",
        "look_back = 300  # number of days to lookback to predict the future\n",
        "percent_train_data = .7 # fraction of training data, .3 = fraction of test data.\n",
        "                        # we are not dividing into train-test-validation for this problem\n",
        "\n",
        "closePrice= loadData(filename) # Load closing price of stock from the file. Check below visualization to understand\n",
        "visualize(closePrice)\n",
        "'''\n",
        "extracts X and y data,  where X is the price for past n ( = lookback) days\n",
        "Y is the labels: -1, 0, 1\n",
        "-1 denotes a drop in stock price, 0 denotes no change, and 1 denotes an increase in stock price. \n",
        "'''\n",
        "dataX, dataY, dataY_raw = create_dataset_discrete(closePrice,look_back) # dataY_raw in not useful for this exercise\n",
        "\n"
      ],
      "execution_count": 46,
      "outputs": [
        {
          "output_type": "stream",
          "text": [
            "Drive already mounted at /content/gdrive; to attempt to forcibly remount, call drive.mount(\"/content/gdrive\", force_remount=True).\n"
          ],
          "name": "stdout"
        },
        {
          "output_type": "display_data",
          "data": {
            "image/png": "[encoded data removed]",
            "text/plain": [
              "<matplotlib.figure.Figure at 0x7fb1908191d0>"
            ]
          },
          "metadata": {
            "tags": []
          }
        }
      ]
    },
    {
      "metadata": {
        "colab_type": "code",
        "id": "CLMAdfJA5V7c",
        "colab": {}
      },
      "cell_type": "code",
      "source": [
        "\n",
        "# Start writing your code here: Below added code is just a guideline for your understanding\n",
        "\n",
        "# you may want to code these functions above. You are allowed to use/ change/ reorder below structure\n",
        "# dataX is a time series data.\n",
        "dataX = extractFeatures(dataX)  \n",
        "dataX,dataY = preprocessData(dataX, dataY)\n",
        "dataX = create_normalized_dataset(dataX)\n",
        "trainX, trainY, testX, testY = createData_TrainTest(dataX, dataY, percent_train_data) # split training-testing data\n",
        "# Check the function above. We are not shuffling the data\n"
      ],
      "execution_count": 0,
      "outputs": []
    },
    {
      "metadata": {
        "id": "Vvjb1BlScW70",
        "colab_type": "code",
        "outputId": "6fd2f151-a92c-44d7-a800-a09a1c5094fc",
        "colab": {
          "base_uri": "https://localhost:8080/",
          "height": 396
        }
      },
      "cell_type": "code",
      "source": [
        "# Data Exploration: This shows that the class distribution is balanced and\n",
        "# we have almost the same number of labels in all the classess\n",
        "hist_visualize(dataY, 'Class Labels','frequency', 'class_distribution') # class distribution is good"
      ],
      "execution_count": 48,
      "outputs": [
        {
          "output_type": "display_data",
          "data": {
            "image/png": "[encoded data removed]",
            "text/plain": [
              "<matplotlib.figure.Figure at 0x7fb18d7de940>"
            ]
          },
          "metadata": {
            "tags": []
          }
        }
      ]
    },
    {
      "metadata": {
        "id": "r00BvoekcW8F",
        "colab_type": "code",
        "outputId": "7839abe1-96c7-423b-d79e-48090ee20e3c",
        "colab": {
          "base_uri": "https://localhost:8080/",
          "height": 85
        }
      },
      "cell_type": "code",
      "source": [
        "# THESE Three LINES BELOW ARE JUST EXAMPLES/ please delete or comment these lines in your final submission\n",
        "Classifier = MLClassifier(trainX, trainY)  \n",
        "predY = Classifier[0].predict(testX)\n",
        "accuracy = Classifier[0].score(testX, testY)\n",
        "cm = confusion_matrix(testY,predY)\n",
        "print(accuracy)\n",
        "cm\n"
      ],
      "execution_count": 49,
      "outputs": [
        {
          "output_type": "stream",
          "text": [
            "0.4096504185130478\n"
          ],
          "name": "stdout"
        },
        {
          "output_type": "execute_result",
          "data": {
            "text/plain": [
              "array([[ 98, 372, 140],\n",
              "       [ 89, 575, 126],\n",
              "       [ 87, 385, 159]])"
            ]
          },
          "metadata": {
            "tags": []
          },
          "execution_count": 49
        }
      ]
    },
    {
      "metadata": {
        "id": "3gQYKreUDhsc",
        "colab_type": "code",
        "colab": {}
      },
      "cell_type": "code",
      "source": [
        ""
      ],
      "execution_count": 0,
      "outputs": []
    }
  ]
}